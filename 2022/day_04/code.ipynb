{
 "cells": [
  {
   "cell_type": "code",
   "execution_count": 24,
   "metadata": {},
   "outputs": [
    {
     "name": "stdout",
     "output_type": "stream",
     "text": [
      "line count: 1000\n"
     ]
    }
   ],
   "source": [
    "with open('input.txt') as file:\n",
    "  lines = []\n",
    "  for line in file:\n",
    "    lines.append(line.strip())\n",
    "print(f'line count: {len(lines)}')"
   ]
  },
  {
   "cell_type": "code",
   "execution_count": 25,
   "metadata": {},
   "outputs": [
    {
     "name": "stdout",
     "output_type": "stream",
     "text": [
      "total overlap count: 562\n",
      "partial overlap count: 924\n"
     ]
    }
   ],
   "source": [
    "import re\n",
    "\n",
    "ls = [\n",
    "  '2-4,6-8',\n",
    "  '2-3,4-5',\n",
    "  '5-7,7-9',\n",
    "  '2-8,3-7',\n",
    "  '6-6,4-6',\n",
    "  '2-6,4-8',\n",
    "]\n",
    "\n",
    "are_total_overlaps = lambda s1, f1, s2, f2: (s1 <= s2 <= f2 <= f1) or (s2 <= s1 <= f1 <= f2)\n",
    "are_partial_overlaps = lambda s1, f1, s2, f2: (s1 <= s2 <= f1) or (s1 <= f2 <= f1) or (s2 <= s1 <= f2) or (s2 <= f1 <= f2)\n",
    "\n",
    "total_overlaps = []\n",
    "partial_overlaps = []\n",
    "for line in lines:\n",
    "  match = re.match(r'(\\d+)-(\\d+),(\\d+)-(\\d+)', line)\n",
    "  points = tuple(map(int, match.groups()))\n",
    "  if are_total_overlaps(*points):\n",
    "    total_overlaps.append(line)\n",
    "  if are_partial_overlaps(*points):\n",
    "    partial_overlaps.append(line)\n",
    "\n",
    "print(f'total overlap count: {len(total_overlaps)}')\n",
    "print(f'partial overlap count: {len(partial_overlaps)}') #wrong answers: 733 (low), 784 (low)\n"
   ]
  }
 ],
 "metadata": {
  "kernelspec": {
   "display_name": "Python 3.10.8 64-bit",
   "language": "python",
   "name": "python3"
  },
  "language_info": {
   "codemirror_mode": {
    "name": "ipython",
    "version": 3
   },
   "file_extension": ".py",
   "mimetype": "text/x-python",
   "name": "python",
   "nbconvert_exporter": "python",
   "pygments_lexer": "ipython3",
   "version": "3.10.8"
  },
  "orig_nbformat": 4,
  "vscode": {
   "interpreter": {
    "hash": "b460384b52104c1e5b9cf54bee46a255d22b2bef338f75ac4ad5d48196028d3c"
   }
  }
 },
 "nbformat": 4,
 "nbformat_minor": 2
}
