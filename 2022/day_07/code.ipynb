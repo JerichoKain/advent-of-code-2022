{
 "cells": [
  {
   "cell_type": "code",
   "execution_count": 1,
   "metadata": {},
   "outputs": [
    {
     "name": "stdout",
     "output_type": "stream",
     "text": [
      "line count: 1031\n"
     ]
    }
   ],
   "source": [
    "with open('input.txt') as file:\n",
    "  lines = []\n",
    "  for line in file:\n",
    "    lines.append(line.strip('\\n'))\n",
    "print(f'line count: {len(lines)}')"
   ]
  },
  {
   "cell_type": "code",
   "execution_count": 2,
   "metadata": {},
   "outputs": [],
   "source": [
    "test_lines = [\n",
    "  '$ cd /',\n",
    "  '$ ls',\n",
    "  'dir a',\n",
    "  '14848514 b.txt',\n",
    "  '8504156 c.dat',\n",
    "  'dir d',\n",
    "  '$ cd a',\n",
    "  '$ ls',\n",
    "  'dir e',\n",
    "  '29116 f',\n",
    "  '2557 g',\n",
    "  '62596 h.lst',\n",
    "  '$ cd e',\n",
    "  '$ ls',\n",
    "  '584 i',\n",
    "  '$ cd ..',\n",
    "  '$ cd ..',\n",
    "  '$ cd d',\n",
    "  '$ ls',\n",
    "  '4060174 j',\n",
    "  '8033020 d.log',\n",
    "  '5626152 d.ext',\n",
    "  '7214296 k'\n",
    "]"
   ]
  },
  {
   "cell_type": "code",
   "execution_count": 3,
   "metadata": {},
   "outputs": [
    {
     "name": "stdout",
     "output_type": "stream",
     "text": [
      "number of dirs: 189. (expected 188 + /)\n",
      "number of files: 279. (expected 279)\n"
     ]
    }
   ],
   "source": [
    "getcwd = lambda cwd: ''.join(cwd)\n",
    "\n",
    "dirs = { '/': 0 }\n",
    "files = {}\n",
    "cwd = []\n",
    "cmd = ''\n",
    "for l in lines:\n",
    "  if cmd == 'ls' and not l.startswith('$'):\n",
    "    if (l.startswith('dir')):\n",
    "      dirs[getcwd(cwd) + f'{l[4:]}/'] = 0\n",
    "    else:\n",
    "      size, filename = l.split(' ')\n",
    "      files[getcwd(cwd) + f'{filename}'] = int(size)\n",
    "  if l.startswith('$ cd '):\n",
    "    cmd = 'cd'\n",
    "    newdir = l[5:]\n",
    "    if newdir == '/':\n",
    "      cwd = ['/']\n",
    "    elif newdir == '..':\n",
    "      cwd.pop()\n",
    "    else:\n",
    "      cwd.append(f'{newdir}/')\n",
    "  elif l.startswith('$ ls'):\n",
    "    cmd = 'ls'\n",
    "\n",
    "print(f'number of dirs: {len(dirs)}. (expected 188 + /)')\n",
    "print(f'number of files: {len(files)}. (expected 279)')"
   ]
  },
  {
   "cell_type": "code",
   "execution_count": 4,
   "metadata": {},
   "outputs": [
    {
     "name": "stdout",
     "output_type": "stream",
     "text": [
      "sum of all directories less than 100000: 1307902\n"
     ]
    }
   ],
   "source": [
    "for d in dirs.keys():\n",
    "  locals = [s for (f,s) in files.items() if f.startswith(d)]\n",
    "  sum_locals = sum(locals)\n",
    "  dirs[d] = sum(locals)\n",
    "\n",
    "limit_dirs = [s for s in dirs.values() if s <= 100000]\n",
    "#print(f'all dirs less than 100000: {limit_dirs}')\n",
    "print(f'sum of all directories less than 100000: {sum(limit_dirs)}')"
   ]
  },
  {
   "cell_type": "code",
   "execution_count": 5,
   "metadata": {},
   "outputs": [
    {
     "name": "stdout",
     "output_type": "stream",
     "text": [
      "current free space: 22951914\n",
      "required space: 7048086\n",
      "delete /csmqbhjv/mtmhst/wqlf/jswfprpl/. available space: 22951914 + 7068748 = 30020662\n"
     ]
    }
   ],
   "source": [
    "total_disk = 70_000_000\n",
    "req_disk = 30_000_000\n",
    "free_disk = total_disk - dirs['/']\n",
    "print(f'current free space: {free_disk}')\n",
    "print(f'required space: {req_disk - free_disk}')\n",
    "for k,v in (sorted(dirs.items(), key=lambda item: item[1])):\n",
    "  if free_disk + v > req_disk:\n",
    "    print(f'delete {k}. available space: {free_disk} + {v} = {free_disk + v}')\n",
    "    break\n"
   ]
  }
 ],
 "metadata": {
  "kernelspec": {
   "display_name": "Python 3.10.8 64-bit",
   "language": "python",
   "name": "python3"
  },
  "language_info": {
   "codemirror_mode": {
    "name": "ipython",
    "version": 3
   },
   "file_extension": ".py",
   "mimetype": "text/x-python",
   "name": "python",
   "nbconvert_exporter": "python",
   "pygments_lexer": "ipython3",
   "version": "3.10.8"
  },
  "orig_nbformat": 4,
  "vscode": {
   "interpreter": {
    "hash": "b460384b52104c1e5b9cf54bee46a255d22b2bef338f75ac4ad5d48196028d3c"
   }
  }
 },
 "nbformat": 4,
 "nbformat_minor": 2
}
