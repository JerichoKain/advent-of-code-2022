{
 "cells": [
  {
   "cell_type": "code",
   "execution_count": 1,
   "metadata": {},
   "outputs": [
    {
     "name": "stdout",
     "output_type": "stream",
     "text": [
      "line count: 512\n"
     ]
    }
   ],
   "source": [
    "with open('input.txt') as file:\n",
    "  lines = []\n",
    "  for line in file:\n",
    "    lines.append(line.strip('\\n'))\n",
    "print(f'line count: {len(lines)}')"
   ]
  },
  {
   "cell_type": "code",
   "execution_count": 2,
   "metadata": {},
   "outputs": [
    {
     "name": "stdout",
     "output_type": "stream",
     "text": [
      "{'1': ['[F]', '[C]', '[J]', '[P]', '[H]', '[T]', '[W]'], '2': ['[G]', '[R]', '[V]', '[F]', '[Z]', '[J]', '[B]', '[H]'], '3': ['[H]', '[P]', '[T]', '[R]'], '4': ['[Z]', '[S]', '[N]', '[P]', '[H]', '[T]'], '5': ['[N]', '[V]', '[F]', '[Z]', '[H]', '[J]', '[C]', '[D]'], '6': ['[P]', '[M]', '[G]', '[F]', '[W]', '[D]', '[Z]'], '7': ['[M]', '[V]', '[Z]', '[W]', '[S]', '[J]', '[D]', '[P]'], '8': ['[N]', '[D]', '[S]'], '9': ['[D]', '[Z]', '[S]', '[F]', '[M]']}\n"
     ]
    }
   ],
   "source": [
    "cargo = lines[0:9]\n",
    "piles = cargo.pop()\n",
    "stacks = {}\n",
    "split_row = lambda row: [row[i:i+4].strip() for i in range(0, len(piles), 4)]\n",
    "indexed_row = split_row(piles)\n",
    "for r in indexed_row:\n",
    "  stacks[r] = []\n",
    "\n",
    "while len(cargo) > 0:\n",
    "  row = cargo.pop()\n",
    "  load = split_row(row)\n",
    "  for i,r in enumerate(indexed_row):\n",
    "    if load[i] != '':\n",
    "      stacks[r].append(load[i])\n",
    "\n",
    "print(stacks)"
   ]
  },
  {
   "cell_type": "code",
   "execution_count": 3,
   "metadata": {},
   "outputs": [
    {
     "name": "stdout",
     "output_type": "stream",
     "text": [
      "{'1': ['[C]', '[H]', '[T]', '[N]', '[W]', '[F]', '[H]', '[S]'], '2': ['[M]', '[P]'], '3': ['[B]', '[M]', '[W]', '[Z]', '[P]', '[D]', '[D]', '[J]', '[V]', '[Z]', '[H]', '[Z]', '[F]'], '4': ['[M]'], '5': ['[V]'], '6': ['[P]', '[D]', '[D]'], '7': ['[T]'], '8': ['[G]', '[W]', '[P]', '[J]', '[J]', '[C]', '[R]', '[F]', '[Z]', '[V]', '[P]', '[S]', '[N]', '[G]', '[Z]'], '9': ['[F]', '[H]', '[J]', '[R]', '[D]', '[S]', '[F]', '[S]', '[N]', '[H]', '[Z]', '[T]']}\n"
     ]
    }
   ],
   "source": [
    "import re\n",
    "for line in lines[10:]:\n",
    "  r = re.match(r'move (?P<num>\\w+) from (?P<src>\\w+) to (?P<dest>\\w+)', line)\n",
    "  num, src, dest = tuple(r.groups())\n",
    "  for _ in range(int(num)):\n",
    "    stacks[dest].append(stacks[src].pop())\n",
    "    if len(stacks[src]) == 0:\n",
    "      break\n",
    "\n",
    "print(stacks)"
   ]
  },
  {
   "cell_type": "code",
   "execution_count": 4,
   "metadata": {},
   "outputs": [
    {
     "name": "stdout",
     "output_type": "stream",
     "text": [
      "SPFMVDTZT\n"
     ]
    }
   ],
   "source": [
    "word = ''\n",
    "for r in indexed_row:\n",
    "  word += stacks[r][-1][1]\n",
    "print(word)"
   ]
  },
  {
   "cell_type": "code",
   "execution_count": 5,
   "metadata": {},
   "outputs": [
    {
     "name": "stdout",
     "output_type": "stream",
     "text": [
      "{'1': ['[F]', '[C]', '[J]', '[P]', '[H]', '[T]', '[W]'], '2': ['[G]', '[R]', '[V]', '[F]', '[Z]', '[J]', '[B]', '[H]'], '3': ['[H]', '[P]', '[T]', '[R]'], '4': ['[Z]', '[S]', '[N]', '[P]', '[H]', '[T]'], '5': ['[N]', '[V]', '[F]', '[Z]', '[H]', '[J]', '[C]', '[D]'], '6': ['[P]', '[M]', '[G]', '[F]', '[W]', '[D]', '[Z]'], '7': ['[M]', '[V]', '[Z]', '[W]', '[S]', '[J]', '[D]', '[P]'], '8': ['[N]', '[D]', '[S]'], '9': ['[D]', '[Z]', '[S]', '[F]', '[M]']}\n"
     ]
    }
   ],
   "source": [
    "cargo = lines[0:9]\n",
    "piles = cargo.pop()\n",
    "stacks = {}\n",
    "split_row = lambda row: [row[i:i+4].strip() for i in range(0, len(piles), 4)]\n",
    "indexed_row = split_row(piles)\n",
    "for r in indexed_row:\n",
    "  stacks[r] = []\n",
    "\n",
    "while len(cargo) > 0:\n",
    "  row = cargo.pop()\n",
    "  load = split_row(row)\n",
    "  for i,r in enumerate(indexed_row):\n",
    "    if load[i] != '':\n",
    "      stacks[r].append(load[i])\n",
    "\n",
    "print(stacks)"
   ]
  },
  {
   "cell_type": "code",
   "execution_count": 6,
   "metadata": {},
   "outputs": [
    {
     "name": "stdout",
     "output_type": "stream",
     "text": [
      "{'1': ['[H]', '[H]', '[N]', '[J]', '[Z]', '[R]', '[T]', '[Z]'], '2': ['[S]', '[F]'], '3': ['[D]', '[S]', '[D]', '[H]', '[V]', '[H]', '[S]', '[D]', '[N]', '[F]', '[J]', '[P]', '[S]'], '4': ['[J]'], '5': ['[B]'], '6': ['[V]', '[C]', '[P]'], '7': ['[R]'], '8': ['[G]', '[T]', '[T]', '[Z]', '[H]', '[W]', '[N]', '[D]', '[Z]', '[M]', '[V]', '[F]', '[F]', '[M]', '[F]'], '9': ['[P]', '[J]', '[G]', '[Z]', '[Z]', '[C]', '[W]', '[P]', '[W]', '[M]', '[D]', '[P]']}\n"
     ]
    }
   ],
   "source": [
    "import re\n",
    "import itertools\n",
    "\n",
    "for line in lines[10:]:\n",
    "  r = re.match(r'move (?P<num>\\w+) from (?P<src>\\w+) to (?P<dest>\\w+)', line)\n",
    "  num, src, dest = tuple(r.groups())\n",
    "  stacks[dest] = list(itertools.chain(*[stacks[dest], stacks[src][-int(num):]]))\n",
    "  stacks[src] = stacks[src][:-int(num)]\n",
    "  \n",
    "print(stacks)"
   ]
  },
  {
   "cell_type": "code",
   "execution_count": 7,
   "metadata": {},
   "outputs": [
    {
     "name": "stdout",
     "output_type": "stream",
     "text": [
      "ZFSJBPRFP\n"
     ]
    }
   ],
   "source": [
    "word = ''\n",
    "for r in indexed_row:\n",
    "  word += stacks[r][-1][1]\n",
    "print(word)"
   ]
  },
  {
   "cell_type": "code",
   "execution_count": 8,
   "metadata": {},
   "outputs": [
    {
     "name": "stdout",
     "output_type": "stream",
     "text": [
      "[] [5, 6, 7, 1, 2, 3, 4]\n"
     ]
    }
   ],
   "source": [
    "import itertools\n",
    "s = [1,2,3,4]\n",
    "d = [5,6,7]\n",
    "d = list(itertools.chain(*[d, s[-5:]]))\n",
    "s = s[:-5]\n",
    "print(s, d)"
   ]
  }
 ],
 "metadata": {
  "kernelspec": {
   "display_name": "Python 3.10.8 64-bit",
   "language": "python",
   "name": "python3"
  },
  "language_info": {
   "codemirror_mode": {
    "name": "ipython",
    "version": 3
   },
   "file_extension": ".py",
   "mimetype": "text/x-python",
   "name": "python",
   "nbconvert_exporter": "python",
   "pygments_lexer": "ipython3",
   "version": "3.10.8"
  },
  "orig_nbformat": 4,
  "vscode": {
   "interpreter": {
    "hash": "b460384b52104c1e5b9cf54bee46a255d22b2bef338f75ac4ad5d48196028d3c"
   }
  }
 },
 "nbformat": 4,
 "nbformat_minor": 2
}
