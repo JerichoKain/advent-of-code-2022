{
 "cells": [
  {
   "cell_type": "code",
   "execution_count": 1,
   "metadata": {},
   "outputs": [
    {
     "name": "stdout",
     "output_type": "stream",
     "text": [
      "line length: 4095\n"
     ]
    }
   ],
   "source": [
    "with open('input.txt') as file:\n",
    "  line = file.readline().strip()\n",
    "    \n",
    "print(f'line length: {len(line)}')"
   ]
  },
  {
   "cell_type": "code",
   "execution_count": 2,
   "metadata": {},
   "outputs": [
    {
     "name": "stdout",
     "output_type": "stream",
     "text": [
      "1134: ('f', 'j', 'h', 'w')\n"
     ]
    }
   ],
   "source": [
    "#line = 'bvwbjplbgvbhsrlpgdmjqwftvncz'\n",
    "#line = 'nppdvjthqldpwncqszvftbrmjlhg'\n",
    "#line = 'nznrnfrfntjfmvfwmzdfjlvtqnbhcprsg'\n",
    "#line = 'zcfzfwzzqfrljwzlrfnpqdbhtmscgvjw'\n",
    "\n",
    "for i,t in enumerate(zip(line, line[1:], line[2:], line[3:])):\n",
    "  if len(set(t)) == 4:\n",
    "    print(f'{i+4}: {t}')\n",
    "    break"
   ]
  },
  {
   "cell_type": "code",
   "execution_count": 3,
   "metadata": {},
   "outputs": [
    {
     "name": "stdout",
     "output_type": "stream",
     "text": [
      "2263: wsbvqfnpjctgrh\n"
     ]
    }
   ],
   "source": [
    "#line = 'mjqjpqmgbljsphdztnvjfqwrcgsmlb'\n",
    "#line = 'bvwbjplbgvbhsrlpgdmjqwftvncz'\n",
    "#line = 'nppdvjthqldpwncqszvftbrmjlhg'\n",
    "#line = 'nznrnfrfntjfmvfwmzdfjlvtqnbhcprsg'\n",
    "#line = 'zcfzfwzzqfrljwzlrfnpqdbhtmscgvjw'\n",
    "\n",
    "for i,_ in enumerate(line):\n",
    "  if len(set(line[i:i+14])) == 14:\n",
    "    print(f'{i+14}: {line[i:i+14]}')\n",
    "    break"
   ]
  }
 ],
 "metadata": {
  "kernelspec": {
   "display_name": "Python 3.10.8 64-bit",
   "language": "python",
   "name": "python3"
  },
  "language_info": {
   "codemirror_mode": {
    "name": "ipython",
    "version": 3
   },
   "file_extension": ".py",
   "mimetype": "text/x-python",
   "name": "python",
   "nbconvert_exporter": "python",
   "pygments_lexer": "ipython3",
   "version": "3.10.8"
  },
  "orig_nbformat": 4,
  "vscode": {
   "interpreter": {
    "hash": "b460384b52104c1e5b9cf54bee46a255d22b2bef338f75ac4ad5d48196028d3c"
   }
  }
 },
 "nbformat": 4,
 "nbformat_minor": 2
}
