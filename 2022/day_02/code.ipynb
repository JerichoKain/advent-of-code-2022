{
 "cells": [
  {
   "cell_type": "code",
   "execution_count": 22,
   "metadata": {},
   "outputs": [
    {
     "name": "stdout",
     "output_type": "stream",
     "text": [
      "line count: 2500\n"
     ]
    }
   ],
   "source": [
    "with open('input.txt') as file:\n",
    "  lines = []\n",
    "  for line in file:\n",
    "    lines.append(line.strip())\n",
    "print(f'line count: {len(lines)}')\n",
    "pairs = [tuple(line.split(' ')) for line in lines]"
   ]
  },
  {
   "cell_type": "code",
   "execution_count": 23,
   "metadata": {},
   "outputs": [
    {
     "name": "stdout",
     "output_type": "stream",
     "text": [
      "[(2, 6), (1, 0), (3, 3)]\n",
      "Part 1 Total points: 12794\n"
     ]
    }
   ],
   "source": [
    "throw_points = { \n",
    "    'A': 1, 'X': 1, \n",
    "    'B': 2, 'Y': 2,\n",
    "    'C': 3, 'Z': 3 \n",
    "  }\n",
    "# A X Rock -> 1\n",
    "# B Y Paper -> 2\n",
    "# C Z Scissor -> 3\n",
    "outcome_points = { \n",
    "    ('A', 'Z'): 0, ('B', 'X'): 0, ('C', 'Y'): 0,\n",
    "    ('A', 'X'): 3, ('B', 'Y'): 3, ('C', 'Z'): 3,\n",
    "    ('A', 'Y'): 6, ('B', 'Z'): 6, ('C', 'X'): 6\n",
    "  }\n",
    "\n",
    "test_pairs = [\n",
    "  ('A', 'Y'),\n",
    "  ('B', 'X'),\n",
    "  ('C', 'Z')\n",
    "]\n",
    "\n",
    "print([(throw_points[b], outcome_points[(a,b)]) for a,b in test_pairs])\n",
    "\n",
    "print(f'Part 1 Total points: {sum([(throw_points[b] + outcome_points[(a,b)]) for a,b in pairs])}')\n"
   ]
  },
  {
   "cell_type": "code",
   "execution_count": 24,
   "metadata": {},
   "outputs": [
    {
     "name": "stdout",
     "output_type": "stream",
     "text": [
      "[(1, 3), (1, 0), (1, 6)]\n",
      "Part 2 Total points: 14979\n"
     ]
    }
   ],
   "source": [
    "outcome_points = { \n",
    "    'X': 0, \n",
    "    'Y': 3,\n",
    "    'Z': 6 \n",
    "  }\n",
    "# A Rock -> 1\n",
    "# B Paper -> 2\n",
    "# C Scissor -> 3\n",
    "# X = Lose (0)\n",
    "# Y = Draw (3)\n",
    "# Z = Win (6)\n",
    "\n",
    "throw_points = { \n",
    "    ('A', 'Z'): 2, ('B', 'Z'): 3, ('C', 'Z'): 1,\n",
    "    ('A', 'Y'): 1, ('B', 'Y'): 2, ('C', 'Y'): 3,\n",
    "    ('A', 'X'): 3, ('B', 'X'): 1, ('C', 'X'): 2\n",
    "  }\n",
    "\n",
    "test_pairs = [\n",
    "  ('A', 'Y'),\n",
    "  ('B', 'X'),\n",
    "  ('C', 'Z')\n",
    "]\n",
    "\n",
    "print([(throw_points[(a,b)], outcome_points[b]) for a,b in test_pairs])\n",
    "\n",
    "pairs = [tuple(line.split(' ')) for line in lines]\n",
    "print(f'Part 2 Total points: {sum([(throw_points[(a,b)] + outcome_points[b]) for a,b in pairs])}')"
   ]
  }
 ],
 "metadata": {
  "kernelspec": {
   "display_name": "Python 3.10.8 64-bit",
   "language": "python",
   "name": "python3"
  },
  "language_info": {
   "codemirror_mode": {
    "name": "ipython",
    "version": 3
   },
   "file_extension": ".py",
   "mimetype": "text/x-python",
   "name": "python",
   "nbconvert_exporter": "python",
   "pygments_lexer": "ipython3",
   "version": "3.10.8"
  },
  "orig_nbformat": 4,
  "vscode": {
   "interpreter": {
    "hash": "b460384b52104c1e5b9cf54bee46a255d22b2bef338f75ac4ad5d48196028d3c"
   }
  }
 },
 "nbformat": 4,
 "nbformat_minor": 2
}
