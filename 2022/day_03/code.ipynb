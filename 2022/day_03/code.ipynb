{
 "cells": [
  {
   "cell_type": "code",
   "execution_count": 38,
   "metadata": {},
   "outputs": [
    {
     "name": "stdout",
     "output_type": "stream",
     "text": [
      "line count: 300\n"
     ]
    }
   ],
   "source": [
    "with open('input.txt') as file:\n",
    "  lines = []\n",
    "  for line in file:\n",
    "    lines.append(line.strip())\n",
    "print(f'line count: {len(lines)}')"
   ]
  },
  {
   "cell_type": "code",
   "execution_count": 39,
   "metadata": {},
   "outputs": [
    {
     "name": "stdout",
     "output_type": "stream",
     "text": [
      "all items: ['m', 'w', 'V', 'p', 'q', 'D', 'W', 'g', 's', 'l', 'n', 'H', 'n', 'R', 's', 'V', 'C', 'H', 't', 'H', 'Z', 'l', 'C', 'b', 'S', 'd', 'w', 'B', 'D', 'n', 's', 'F', 'T', 'C', 'm', 'Z', 't', 'r', 'm', 'G', 'V', 'F', 'B', 'q', 'H', 'Z', 'f', 's', 'p', 'C', 'z', 'd', 'H', 'f', 'b', 'w', 'Z', 'Z', 'h', 'W', 'j', 'D', 'q', 'f', 't', 'P', 'D', 'W', 'd', 'n', 'j', 'F', 'T', 'Z', 'R', 'W', 'l', 'H', 'T', 'B', 'F', 'C', 'l', 'Q', 'F', 'B', 'b', 'f', 'F', 'l', 'q', 'r', 'N', 'C', 'v', 'r', 'v', 'b', 'h', 'p', 'B', 'L', 'B', 'M', 'h', 'H', 'B', 'M', 'j', 'w', 'f', 'J', 'g', 's', 'D', 'f', 'B', 'q', 'Z', 'r', 'l', 'J', 'G', 'S', 'Z', 't', 'W', 'Q', 'S', 'b', 'l', 'C', 'N', 'f', 'm', 'J', 'S', 'N', 'R', 'f', 'h', 'R', 'S', 'c', 'p', 'b', 'B', 'r', 'M', 'g', 'P', 'C', 'j', 'Q', 'G', 'q', 'g', 'h', 'S', 'f', 't', 'h', 'P', 'D', 's', 'q', 'j', 'Z', 'G', 'm', 'J', 'L', 'B', 'n', 'L', 'n', 'c', 'r', 'V', 'F', 'B', 'd', 'b', 'm', 'f', 'q', 'M', 'J', 'W', 'f', 'n', 'N', 'n', 'W', 'm', 'c', 's', 'C', 'q', 'R', 'f', 'r', 'h', 'B', 'f', 'M', 'r', 'g', 'F', 'D', 'h', 'V', 'g', 'f', 'H', 'r', 'H', 'g', 't', 'J', 'n', 'B', 'r', 'N', 'w', 'v', 'n', 'Z', 'l', 'p', 'j', 'R', 'M', 'r', 'Q', 'R', 'J', 'B', 'T', 'd', 'l', 'n', 'c', 'p', 'f', 'Z', 'S', 'w', 'q', 'T', 'N', 'F', 'j', 'Z', 'S', 'b', 'T', 'v', 't', 'z', 'c', 'S', 'R', 'c', 'b', 'v', 'L', 'r', 'm', 'f', 'g', 'S', 'd', 'G', 'b', 'Z', 'j', 's', 'Q', 'W', 'n', 'B', 'Q', 'r', 'S', 'm', 's', 'q', 'H', 'z', 'f', 'm', 'M', 'r', 'R', 'J', 'B', 't', 'W', 'G']\n",
      "all prioritized items: [13, 23, 48, 16, 17, 30, 49, 7, 19, 12, 14, 34, 14, 44, 19, 48, 29, 34, 20, 34, 52, 12, 29, 2, 45, 4, 23, 28, 30, 14, 19, 32, 46, 29, 13, 52, 20, 18, 13, 33, 48, 32, 28, 17, 34, 52, 6, 19, 16, 29, 26, 4, 34, 6, 2, 23, 52, 52, 8, 49, 10, 30, 17, 6, 20, 42, 30, 49, 4, 14, 10, 32, 46, 52, 44, 49, 12, 34, 46, 28, 32, 29, 12, 43, 32, 28, 2, 6, 32, 12, 17, 18, 40, 29, 22, 18, 22, 2, 8, 16, 28, 38, 28, 39, 8, 34, 28, 39, 10, 23, 6, 36, 7, 19, 30, 6, 28, 17, 52, 18, 12, 36, 33, 45, 52, 20, 49, 43, 45, 2, 12, 29, 40, 6, 13, 36, 45, 40, 44, 6, 8, 44, 45, 3, 16, 2, 28, 18, 39, 7, 42, 29, 10, 43, 33, 17, 7, 8, 45, 6, 20, 8, 42, 30, 19, 17, 10, 52, 33, 13, 36, 38, 28, 14, 38, 14, 3, 18, 48, 32, 28, 4, 2, 13, 6, 17, 39, 36, 49, 6, 14, 40, 14, 49, 13, 3, 19, 29, 17, 44, 6, 18, 8, 28, 6, 39, 18, 7, 32, 30, 8, 48, 7, 6, 34, 18, 34, 7, 20, 36, 14, 28, 18, 40, 23, 22, 14, 52, 12, 16, 10, 44, 39, 18, 43, 44, 36, 28, 46, 4, 12, 14, 3, 16, 6, 52, 45, 23, 17, 46, 40, 32, 10, 52, 45, 2, 46, 22, 20, 26, 3, 45, 44, 3, 2, 22, 38, 18, 13, 6, 7, 45, 4, 33, 2, 52, 10, 19, 43, 49, 14, 28, 43, 18, 45, 13, 19, 17, 34, 26, 6, 13, 39, 18, 44, 36, 28, 20, 49, 33]\n",
      "sum of prioritized items: 7568\n"
     ]
    }
   ],
   "source": [
    "test_lines = [\n",
    "  'vJrwpWtwJgWrhcsFMMfFFhFp',\n",
    "  'jqHRNqRjqzjGDLGLrsFMfFZSrLrFZsSL',\n",
    "  'PmmdzqPrVvPwwTWBwg',\n",
    "  'wMqvLMZHhHMvwLHjbvcjnnSBnvTQFn',\n",
    "  'ttgJtRGJQctTZtZT',\n",
    "  'CrZsJsPPZsGzwwsLwLmpwMDw'\n",
    "]\n",
    "\n",
    "prioritize = lambda c: (ord(c) - 38) % 58\n",
    "\n",
    "common_items = []\n",
    "for line in lines:\n",
    "  split = int(len(line)/2)\n",
    "  common_items.append(set(line[:split]).intersection(line[split:]).pop())\n",
    "print(f'all items: {common_items}')\n",
    "prioritized_items = [prioritize(c) for c in common_items]\n",
    "print(f'all prioritized items: {prioritized_items}')\n",
    "print(f'sum of prioritized items: {sum(prioritized_items)}')"
   ]
  },
  {
   "cell_type": "code",
   "execution_count": 40,
   "metadata": {},
   "outputs": [
    {
     "name": "stdout",
     "output_type": "stream",
     "text": [
      "all groups badges: ['Q', 'Q', 'v', 'm', 'P', 'm', 'z', 'T', 'R', 'v', 'm', 'l', 'C', 'z', 'W', 'h', 'q', 'B', 'R', 's', 'r', 'S', 'L', 'b', 'W', 'L', 'G', 'b', 'm', 's', 'z', 'f', 'V', 'S', 'S', 'd', 'b', 'G', 'Z', 'c', 'n', 'Q', 'h', 'g', 'n', 'Q', 'M', 'b', 's', 'R', 'R', 'm', 't', 'r', 'B', 'v', 'n', 'C', 'm', 'd', 'C', 'J', 'n', 'D', 'z', 'Q', 'M', 'C', 'Z', 'r', 'N', 's', 'p', 'M', 'z', 'P', 'T', 'h', 'b', 'N', 'S', 'P', 'Q', 'L', 'D', 'C', 'v', 'L', 'R', 'p', 'T', 'n', 'P', 'h', 'C', 'G', 'V', 'Z', 'g', 'P']\n",
      "all prioritized badges: [43, 43, 22, 13, 42, 13, 26, 46, 44, 22, 13, 12, 29, 26, 49, 8, 17, 28, 44, 19, 18, 45, 38, 2, 49, 38, 33, 2, 13, 19, 26, 6, 48, 45, 45, 4, 2, 33, 52, 3, 14, 43, 8, 7, 14, 43, 39, 2, 19, 44, 44, 13, 20, 18, 28, 22, 14, 29, 13, 4, 29, 36, 14, 30, 26, 43, 39, 29, 52, 18, 40, 19, 16, 39, 26, 42, 46, 8, 2, 40, 45, 42, 43, 38, 30, 29, 22, 38, 44, 16, 46, 14, 42, 8, 29, 33, 48, 52, 7, 42]\n",
      "sum of prioritized badges: 2780\n"
     ]
    }
   ],
   "source": [
    "group_badges = []\n",
    "for i in range(0, int(len(lines)), 3):\n",
    "  group_badges.append(set(lines[i]).intersection(lines[i+1]).intersection(lines[i+2]).pop())\n",
    "print(f'all groups badges: {group_badges}')\n",
    "prioritized_badges = [prioritize(c) for c in group_badges]\n",
    "print(f'all prioritized badges: {prioritized_badges}')\n",
    "print(f'sum of prioritized badges: {sum(prioritized_badges)}')"
   ]
  }
 ],
 "metadata": {
  "kernelspec": {
   "display_name": "Python 3.10.8 64-bit",
   "language": "python",
   "name": "python3"
  },
  "language_info": {
   "codemirror_mode": {
    "name": "ipython",
    "version": 3
   },
   "file_extension": ".py",
   "mimetype": "text/x-python",
   "name": "python",
   "nbconvert_exporter": "python",
   "pygments_lexer": "ipython3",
   "version": "3.10.8"
  },
  "orig_nbformat": 4,
  "vscode": {
   "interpreter": {
    "hash": "b460384b52104c1e5b9cf54bee46a255d22b2bef338f75ac4ad5d48196028d3c"
   }
  }
 },
 "nbformat": 4,
 "nbformat_minor": 2
}
