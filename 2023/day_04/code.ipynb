{
 "cells": [
  {
   "cell_type": "code",
   "execution_count": 1,
   "metadata": {},
   "outputs": [
    {
     "name": "stdout",
     "output_type": "stream",
     "text": [
      "line count: 198\n"
     ]
    }
   ],
   "source": [
    "with open('input.txt') as file:\n",
    "  lines = []\n",
    "  for line in file:\n",
    "    lines.append(line.strip())\n",
    "print(f'line count: {len(lines)}')"
   ]
  },
  {
   "cell_type": "code",
   "execution_count": 2,
   "metadata": {},
   "outputs": [],
   "source": [
    "test_text = '''Card 1: 41 48 83 86 17 | 83 86  6 31 17  9 48 53\n",
    "Card 2: 13 32 20 16 61 | 61 30 68 82 17 32 24 19\n",
    "Card 3:  1 21 53 59 44 | 69 82 63 72 16 21 14  1\n",
    "Card 4: 41 92 73 84 69 | 59 84 76 51 58  5 54 83\n",
    "Card 5: 87 83 26 28 32 | 88 30 70 12 93 22 82 36\n",
    "Card 6: 31 18 13 56 72 | 74 77 10 23 35 67 36 11'''\n",
    "\n",
    "test_lines = test_text.split('\\n')"
   ]
  },
  {
   "cell_type": "code",
   "execution_count": 3,
   "metadata": {},
   "outputs": [
    {
     "name": "stdout",
     "output_type": "stream",
     "text": [
      "Part 1: How many points are they worth in total? 20117\n",
      "Part 2: How many total scratchcards do you end up with? 13768818\n"
     ]
    }
   ],
   "source": [
    "import re\n",
    "\n",
    "points = 0\n",
    "total = {}\n",
    "for i in range(1, len(lines)+1):\n",
    "    total[i] = 1\n",
    "\n",
    "for line in lines:\n",
    "    (info, game) = line.split(':')\n",
    "    card_num = int(re.match(r'Card\\W+(\\d+)', info).group(1))\n",
    "    (win_nums, nums) = game.split('|')\n",
    "    win_nums = set(map(int, re.findall(r'(\\d+)', win_nums)))\n",
    "    nums = set(map(int, re.findall(r'(\\d+)', nums)))\n",
    "    winners = nums.intersection(win_nums)\n",
    "    if len(winners) > 0:\n",
    "        points += int(2**(len(winners)-1))\n",
    "    for i in range(card_num+1, card_num+1+len(winners)):\n",
    "        total[i] += total[card_num]\n",
    "\n",
    "print(f'Part 1: How many points are they worth in total? {points}')\n",
    "print(f'Part 2: How many total scratchcards do you end up with? {sum(total.values())}')"
   ]
  }
 ],
 "metadata": {
  "kernelspec": {
   "display_name": "Python 3",
   "language": "python",
   "name": "python3"
  },
  "language_info": {
   "codemirror_mode": {
    "name": "ipython",
    "version": 3
   },
   "file_extension": ".py",
   "mimetype": "text/x-python",
   "name": "python",
   "nbconvert_exporter": "python",
   "pygments_lexer": "ipython3",
   "version": "3.9.6"
  }
 },
 "nbformat": 4,
 "nbformat_minor": 2
}
