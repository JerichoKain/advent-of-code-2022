{
 "cells": [
  {
   "cell_type": "code",
   "execution_count": 14,
   "metadata": {},
   "outputs": [
    {
     "name": "stdout",
     "output_type": "stream",
     "text": [
      "line count: 2\n"
     ]
    }
   ],
   "source": [
    "with open('input.txt') as file:\n",
    "  lines = []\n",
    "  for line in file:\n",
    "    lines.append(line.strip())\n",
    "print(f'line count: {len(lines)}')"
   ]
  },
  {
   "cell_type": "code",
   "execution_count": 1,
   "metadata": {},
   "outputs": [],
   "source": [
    "test_text = '''Time:      7  15   30\n",
    "Distance:  9  40  200'''\n",
    "\n",
    "test_lines = test_text.split('\\n')"
   ]
  },
  {
   "cell_type": "code",
   "execution_count": 12,
   "metadata": {},
   "outputs": [
    {
     "name": "stdout",
     "output_type": "stream",
     "text": [
      "[(55, 246), (82, 1441), (64, 1012), (90, 1111)]\n",
      "i: 5, r: 1, time: 55\n",
      "i: 26, r: 0, time: 82\n",
      "i: 29, r: 0, time: 64\n",
      "i: 15, r: 0, time: 90\n",
      "winners: [46, 31, 7, 61]\n",
      "What do you get if you multiply these numbers together? 608902\n"
     ]
    }
   ],
   "source": [
    "import re\n",
    "import math\n",
    "\n",
    "#lines = test_lines\n",
    "\n",
    "times = map(int, re.findall(r'(\\d+)', lines[0]))\n",
    "dists = map(int, re.findall(r'(\\d+)', lines[1]))\n",
    "nums = list(zip(*(times, dists)))\n",
    "print(nums)\n",
    "\n",
    "winners = []\n",
    "\n",
    "def find_winners(time, dist):\n",
    "    for i in range(1, time):\n",
    "        if dist < i * (time-i):\n",
    "            r = time%2\n",
    "            print(f'i: {i}, r: {r}, time: {time}')\n",
    "            return time - (2*i) + 1\n",
    "\n",
    "for n, (time, dist) in enumerate(nums):\n",
    "    winners.append(find_winners(time, dist))\n",
    "\n",
    "print(f'winners: {winners}')\n",
    "print(f'What do you get if you multiply these numbers together? {math.prod(winners)}')\n",
    "\n"
   ]
  },
  {
   "cell_type": "code",
   "execution_count": 15,
   "metadata": {},
   "outputs": [
    {
     "name": "stdout",
     "output_type": "stream",
     "text": [
      "55826490 246144110121111\n",
      "i: 4826341, r: 0, time: 55826490\n",
      "How many ways can you beat the record in this one much longer race? 46173809\n"
     ]
    }
   ],
   "source": [
    "import re\n",
    "import math\n",
    "\n",
    "#lines = test_lines\n",
    "\n",
    "time = int(''.join(re.findall(r'(\\d+)', lines[0])))\n",
    "dist = int(''.join(re.findall(r'(\\d+)', lines[1])))\n",
    "print(time, dist)\n",
    "\n",
    "winners = []\n",
    "\n",
    "def find_winners(time, dist):\n",
    "    for i in range(1, time):\n",
    "        if dist < i * (time-i):\n",
    "            r = time%2\n",
    "            print(f'i: {i}, r: {r}, time: {time}')\n",
    "            return time - (2*i) + 1\n",
    "\n",
    "print(f'How many ways can you beat the record in this one much longer race? {find_winners(time, dist)}')"
   ]
  }
 ],
 "metadata": {
  "kernelspec": {
   "display_name": "Python 3",
   "language": "python",
   "name": "python3"
  },
  "language_info": {
   "codemirror_mode": {
    "name": "ipython",
    "version": 3
   },
   "file_extension": ".py",
   "mimetype": "text/x-python",
   "name": "python",
   "nbconvert_exporter": "python",
   "pygments_lexer": "ipython3",
   "version": "3.9.6"
  }
 },
 "nbformat": 4,
 "nbformat_minor": 2
}
