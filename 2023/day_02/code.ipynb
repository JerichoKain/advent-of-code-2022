{
 "cells": [
  {
   "cell_type": "code",
   "execution_count": 1,
   "metadata": {},
   "outputs": [
    {
     "name": "stdout",
     "output_type": "stream",
     "text": [
      "line count: 100\n"
     ]
    }
   ],
   "source": [
    "with open('input.txt') as file:\n",
    "  lines = []\n",
    "  for line in file:\n",
    "    lines.append(line.strip())\n",
    "print(f'line count: {len(lines)}')"
   ]
  },
  {
   "cell_type": "code",
   "execution_count": 2,
   "metadata": {},
   "outputs": [],
   "source": [
    "test_text = '''Game 1: 3 blue, 4 red; 1 red, 2 green, 6 blue; 2 green\n",
    "Game 2: 1 blue, 2 green; 3 green, 4 blue, 1 red; 1 green, 1 blue\n",
    "Game 3: 8 green, 6 blue, 20 red; 5 blue, 4 red, 13 green; 5 green, 1 red\n",
    "Game 4: 1 green, 3 red, 6 blue; 3 green, 6 red; 3 green, 15 blue, 14 red\n",
    "Game 5: 6 red, 1 blue, 3 green; 2 blue, 1 red, 2 green'''\n",
    "\n",
    "test_lines = test_text.split('\\n')"
   ]
  },
  {
   "cell_type": "code",
   "execution_count": 3,
   "metadata": {},
   "outputs": [
    {
     "name": "stdout",
     "output_type": "stream",
     "text": [
      "the sum of the IDs of those games is: 2164\n",
      "the sum of the power of these sets is: 69929\n"
     ]
    }
   ],
   "source": [
    "from collections import defaultdict\n",
    "import re\n",
    "import math\n",
    "\n",
    "MAX_RED = 12\n",
    "MAX_GREEN = 13\n",
    "MAX_BLUE = 14\n",
    "total = 0\n",
    "power = 0\n",
    "for line in lines:\n",
    "    game_num = int(re.match(r'Game (\\d+)', line).groups()[0])\n",
    "    blocks = re.findall(r'[:,;] (\\d+) (\\w+)', line)\n",
    "    bag = defaultdict(int)\n",
    "    for (num, color) in blocks:\n",
    "        bag[color] = max(bag[color], int(num))\n",
    "    if (bag['red'] <= MAX_RED and bag['green'] <= MAX_GREEN and bag['blue'] <= MAX_BLUE):\n",
    "        total += game_num\n",
    "    else:\n",
    "        pass\n",
    "    power += math.prod(bag.values())\n",
    "print(f'the sum of the IDs of those games is: {total}')\n",
    "print(f'the sum of the power of these sets is: {power}')"
   ]
  }
 ],
 "metadata": {
  "kernelspec": {
   "display_name": "Python 3",
   "language": "python",
   "name": "python3"
  },
  "language_info": {
   "codemirror_mode": {
    "name": "ipython",
    "version": 3
   },
   "file_extension": ".py",
   "mimetype": "text/x-python",
   "name": "python",
   "nbconvert_exporter": "python",
   "pygments_lexer": "ipython3",
   "version": "3.9.6"
  }
 },
 "nbformat": 4,
 "nbformat_minor": 2
}
