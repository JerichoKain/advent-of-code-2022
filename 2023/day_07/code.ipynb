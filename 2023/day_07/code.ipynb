{
 "cells": [
  {
   "cell_type": "code",
   "execution_count": 1,
   "metadata": {},
   "outputs": [
    {
     "name": "stdout",
     "output_type": "stream",
     "text": [
      "line count: 1000\n"
     ]
    }
   ],
   "source": [
    "with open('input.txt') as file:\n",
    "  lines = []\n",
    "  for line in file:\n",
    "    lines.append(line.strip())\n",
    "print(f'line count: {len(lines)}')"
   ]
  },
  {
   "cell_type": "code",
   "execution_count": 2,
   "metadata": {},
   "outputs": [],
   "source": [
    "test_text = '''32T3K 765\n",
    "T55J5 684\n",
    "KK677 28\n",
    "KTJJT 220\n",
    "QQQJA 483'''\n",
    "\n",
    "test_lines = test_text.split('\\n')"
   ]
  },
  {
   "cell_type": "code",
   "execution_count": 3,
   "metadata": {},
   "outputs": [
    {
     "name": "stdout",
     "output_type": "stream",
     "text": [
      "What are the total winnings? 251136060\n",
      "What are the new total winnings? 249400220\n"
     ]
    }
   ],
   "source": [
    "from collections import Counter\n",
    "\n",
    "def card_value(card, wilds=False):\n",
    "    if card == 'A':\n",
    "        return 'e'\n",
    "    if card == 'K': \n",
    "        return 'd'\n",
    "    if card == 'Q':\n",
    "        return 'c'\n",
    "    if card == 'J':\n",
    "        return 'b' if not wilds else '1'\n",
    "    if card == 'T':\n",
    "        return 'a'\n",
    "    return card\n",
    "\n",
    "def hand_rank(hand, wilds=False):\n",
    "    if wilds:\n",
    "        hand = hand.replace('J', '')\n",
    "    wilds = 5 - len(hand)\n",
    "    card_cnt = list(map(lambda x: x[1], Counter(hand).most_common()))\n",
    "    if len(card_cnt) <= 1:\n",
    "        return '6' # 0 if all cards are wilds, 5 of a kind with wilds\n",
    "    if card_cnt[0] + wilds == 4:\n",
    "        return '5' # 4 of a kind, 3 of a kind + 1 wild, 1 pair + 2 wilds, high card + 3 wilds\n",
    "    if card_cnt[0] + wilds == 3:\n",
    "        if card_cnt[1] == 2:\n",
    "            return '4' # full house, 2 pair + 1 wild\n",
    "        if card_cnt[1] == 1:\n",
    "            return '3' # 3 of a kind, 1 pair + 1 wild, high card + 2 wilds\n",
    "    if card_cnt[0] + wilds == 2:\n",
    "        if card_cnt[1] == 2:\n",
    "            return '2' # 2 pair\n",
    "        if card_cnt[1] == 1:\n",
    "            return '1' # 1 pair, high card + 1 wild\n",
    "    if card_cnt[0] + wilds == 1:\n",
    "        return '0' #high card\n",
    "    raise Exception('Unknown hand: {hand_cnt}')\n",
    "\n",
    "def hand_value(hand, wilds=False):\n",
    "    g = list(*[hand])\n",
    "    card_values = ''.join(list(map(lambda x: card_value(x, wilds), g)))\n",
    "    value = int(f'0x{hand_rank(hand, wilds)}{card_values}', 16)\n",
    "    return value\n",
    "\n",
    "def process_hands(wilds=False):\n",
    "    hands = {}\n",
    "    for line in lines:\n",
    "        (hand, bid) = line.split(' ')\n",
    "        hands[hand_value(hand, wilds)] = (hand, bid)\n",
    "\n",
    "    sorted_hands = sorted(hands)\n",
    "    winnings = []\n",
    "    for n,i in enumerate(sorted_hands, 1):\n",
    "        (hand, bid) = hands[i]\n",
    "        result = n * int(bid)\n",
    "        #print(f'{hand}: {bid}*{n} -> {result}')\n",
    "        winnings.append(result)\n",
    "    return winnings\n",
    "\n",
    "winnings = process_hands()\n",
    "wild_winnings = process_hands(True)\n",
    "print(f'What are the total winnings? {sum(winnings)}')\n",
    "print(f'What are the new total winnings? {sum(wild_winnings)}')\n"
   ]
  }
 ],
 "metadata": {
  "kernelspec": {
   "display_name": "Python 3",
   "language": "python",
   "name": "python3"
  },
  "language_info": {
   "codemirror_mode": {
    "name": "ipython",
    "version": 3
   },
   "file_extension": ".py",
   "mimetype": "text/x-python",
   "name": "python",
   "nbconvert_exporter": "python",
   "pygments_lexer": "ipython3",
   "version": "3.9.6"
  }
 },
 "nbformat": 4,
 "nbformat_minor": 2
}
