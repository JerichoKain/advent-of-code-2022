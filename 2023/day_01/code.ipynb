{
 "cells": [
  {
   "cell_type": "markdown",
   "metadata": {},
   "source": [
    "test_text = '''1abc2\n",
    "pqr3stu8vwx\n",
    "a1b2c3d4e5f\n",
    "treb7uchet'''\n",
    "\n",
    "lines = test_text.split('\\n')"
   ]
  },
  {
   "cell_type": "code",
   "execution_count": 1,
   "metadata": {},
   "outputs": [
    {
     "name": "stdout",
     "output_type": "stream",
     "text": [
      "line count: 1000\n"
     ]
    }
   ],
   "source": [
    "with open('input.txt') as file:\n",
    "  lines = []\n",
    "  for line in file:\n",
    "    lines.append(line.strip())\n",
    "print(f'line count: {len(lines)}')"
   ]
  },
  {
   "cell_type": "code",
   "execution_count": 2,
   "metadata": {},
   "outputs": [
    {
     "name": "stdout",
     "output_type": "stream",
     "text": [
      "Part1 - The sum of all of the calibration values is: 57346\n"
     ]
    }
   ],
   "source": [
    "import re\n",
    "\n",
    "sum = 0\n",
    "for line in lines:\n",
    "    matches = re.findall(r'\\d', line)\n",
    "    sum += int(f'{matches[0]}{matches[-1]}')\n",
    "print(f'Part1 - The sum of all of the calibration values is: {sum}')"
   ]
  },
  {
   "cell_type": "markdown",
   "metadata": {},
   "source": [
    "test_text = '''two1nine\n",
    "eightwothree\n",
    "abcone2threexyz\n",
    "xtwone3four\n",
    "4nineeightseven2\n",
    "zoneight234\n",
    "7pqrstsixteen'''\n",
    "lines = test_text.split('\\n')"
   ]
  },
  {
   "cell_type": "code",
   "execution_count": 3,
   "metadata": {},
   "outputs": [
    {
     "name": "stdout",
     "output_type": "stream",
     "text": [
      "Part2 - The sum of all of the calibration values is: 57345\n"
     ]
    }
   ],
   "source": [
    "import re\n",
    "\n",
    "str_nums = [\n",
    "    ('one', 'o1e'),\n",
    "    ('two', 't2o'),\n",
    "    ('three', 't3e'),\n",
    "    ('four', 'f4r'),\n",
    "    ('five', 'f5e'),\n",
    "    ('six', 's6x'),\n",
    "    ('seven', 's7n'),\n",
    "    ('eight', 'e8t'),\n",
    "    ('nine', 'n9e')\n",
    "]\n",
    "\n",
    "def translate(line):\n",
    "    for (key, val) in str_nums:\n",
    "        line = line.replace(key, val)\n",
    "    return line\n",
    "\n",
    "sum = 0\n",
    "for line in lines:\n",
    "    matches = re.findall(r'\\d', translate(line))\n",
    "    sum += int(f'{matches[0]}{matches[-1]}')\n",
    "print(f'Part2 - The sum of all of the calibration values is: {sum}')"
   ]
  }
 ],
 "metadata": {
  "kernelspec": {
   "display_name": "Python 3",
   "language": "python",
   "name": "python3"
  },
  "language_info": {
   "codemirror_mode": {
    "name": "ipython",
    "version": 3
   },
   "file_extension": ".py",
   "mimetype": "text/x-python",
   "name": "python",
   "nbconvert_exporter": "python",
   "pygments_lexer": "ipython3",
   "version": "3.9.6"
  }
 },
 "nbformat": 4,
 "nbformat_minor": 2
}
