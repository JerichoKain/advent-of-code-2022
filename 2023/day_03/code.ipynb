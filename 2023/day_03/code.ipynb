{
 "cells": [
  {
   "cell_type": "code",
   "execution_count": 1,
   "metadata": {},
   "outputs": [
    {
     "name": "stdout",
     "output_type": "stream",
     "text": [
      "line count: 140\n"
     ]
    }
   ],
   "source": [
    "with open('input.txt') as file:\n",
    "  lines = []\n",
    "  for line in file:\n",
    "    lines.append(line.strip())\n",
    "print(f'line count: {len(lines)}')"
   ]
  },
  {
   "cell_type": "code",
   "execution_count": 2,
   "metadata": {},
   "outputs": [],
   "source": [
    "test_text = '''467..114..\n",
    "...*......\n",
    "..35..633.\n",
    "......#...\n",
    "617*......\n",
    ".....+.58.\n",
    "..592.....\n",
    "......755.\n",
    "...$.*....\n",
    ".664.598..'''\n",
    "\n",
    "test_lines = test_text.split('\\n')\n"
   ]
  },
  {
   "cell_type": "code",
   "execution_count": 3,
   "metadata": {},
   "outputs": [
    {
     "name": "stdout",
     "output_type": "stream",
     "text": [
      "the sum of all of the part numbers in the engine schematic is: 535235\n",
      "the sum of all of the gear ratios in your engine schematic is: 79844424\n"
     ]
    }
   ],
   "source": [
    "import itertools\n",
    "import math\n",
    "import re\n",
    "\n",
    "previous_nums = []\n",
    "previous_chars = []\n",
    "\n",
    "part_nums = {}\n",
    "\n",
    "for line_num, line in enumerate(lines):\n",
    "    nums = list(re.finditer(r'(\\d+)', line))\n",
    "    chars = list(re.finditer(r'([^\\.^\\d])', line))\n",
    "    \n",
    "    for i in range(len(chars)):\n",
    "        (char_start, char_end) = chars[i].span()\n",
    "        part_id = f'{line_num}.{char_start}.{char_end}.{chars[i].group(1)}'\n",
    "        part_nums[part_id] = []\n",
    "        for j in reversed(range(len(previous_nums))):\n",
    "            (num_start, num_end) = previous_nums[j].span()\n",
    "            if num_start <= char_start <= num_end or num_start <= char_end <= num_end:\n",
    "                part_nums[part_id].append(int(previous_nums[j].group(1)))\n",
    "                previous_nums.remove(previous_nums[j])\n",
    "        for j in reversed(range(len(nums))):\n",
    "            (num_start, num_end) = nums[j].span()\n",
    "            if num_start <= char_start <= num_end or num_start <= char_end <= num_end:\n",
    "                part_nums[part_id].append(int(nums[j].group(1)))\n",
    "                nums.remove(nums[j])\n",
    "    \n",
    "    for i in range(len(previous_chars)):\n",
    "        (char_start, char_end) = previous_chars[i].span()\n",
    "        part_id = f'{line_num-1}.{char_start}.{char_end}.{previous_chars[i].group(1)}'\n",
    "        for j in reversed(range(len(nums))):\n",
    "            (num_start, num_end) = nums[j].span()\n",
    "            if num_start <= char_start <= num_end or num_start <= char_end <= num_end:\n",
    "                part_nums[part_id].append(int(nums[j].group(1)))\n",
    "                nums.remove(nums[j])\n",
    "\n",
    "    previous_chars = chars\n",
    "    previous_nums = nums\n",
    "\n",
    "print(f'the sum of all of the part numbers in the engine schematic is: {sum(itertools.chain(*part_nums.values()))}')\n",
    "\n",
    "gears = {k:v for (k,v) in part_nums.items() if '*' in k and len(v) == 2}\n",
    "ratios = [math.prod(v) for (k,v) in gears.items()]\n",
    "print(f'the sum of all of the gear ratios in your engine schematic is: {sum(ratios)}')"
   ]
  }
 ],
 "metadata": {
  "kernelspec": {
   "display_name": "Python 3",
   "language": "python",
   "name": "python3"
  },
  "language_info": {
   "codemirror_mode": {
    "name": "ipython",
    "version": 3
   },
   "file_extension": ".py",
   "mimetype": "text/x-python",
   "name": "python",
   "nbconvert_exporter": "python",
   "pygments_lexer": "ipython3",
   "version": "3.9.6"
  }
 },
 "nbformat": 4,
 "nbformat_minor": 2
}
