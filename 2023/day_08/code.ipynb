{
 "cells": [
  {
   "cell_type": "code",
   "execution_count": 1,
   "metadata": {},
   "outputs": [
    {
     "name": "stdout",
     "output_type": "stream",
     "text": [
      "line count: 680\n"
     ]
    }
   ],
   "source": [
    "with open('input.txt') as file:\n",
    "  lines = []\n",
    "  for line in file:\n",
    "    lines.append(line.strip())\n",
    "print(f'line count: {len(lines)}')"
   ]
  },
  {
   "cell_type": "code",
   "execution_count": 2,
   "metadata": {},
   "outputs": [],
   "source": [
    "test_text = '''LR\n",
    "\n",
    "11A = (11B, XXX)\n",
    "11B = (XXX, 11Z)\n",
    "11Z = (11B, XXX)\n",
    "22A = (22B, XXX)\n",
    "22B = (22C, 22C)\n",
    "22C = (22Z, 22Z)\n",
    "22Z = (22B, 22B)\n",
    "XXX = (XXX, XXX)'''\n",
    "\n",
    "test_lines = test_text.split('\\n')"
   ]
  },
  {
   "cell_type": "code",
   "execution_count": 3,
   "metadata": {},
   "outputs": [
    {
     "name": "stdout",
     "output_type": "stream",
     "text": [
      "Starting at AAA, follow the left/right instructions. How many steps are required to reach ZZZ? 12599\n",
      "Simultaneously start on every node that ends with A. How many steps does it take before you're only on nodes that end with Z? 8245452805243\n"
     ]
    }
   ],
   "source": [
    "import re\n",
    "import math\n",
    "\n",
    "rl_line = lines[0]\n",
    "directions = {}\n",
    "for line in lines[2:]:\n",
    "    (loc, left, right) = re.match(r'(\\w+) = \\((\\w+)\\, (\\w+)\\)', line).groups()\n",
    "    directions[loc] = (left, right)\n",
    "\n",
    "def find_end(loc, end_zzz = False):\n",
    "    steps = 0\n",
    "    while steps < 1_000_000:\n",
    "        dir = steps % len(rl_line)\n",
    "        step = rl_line[dir]\n",
    "        steps += 1\n",
    "\n",
    "        (left, right) = directions[loc]\n",
    "        loc = left if step == 'L' else right\n",
    "        if end_zzz and loc == 'ZZZ':\n",
    "            return steps\n",
    "        if loc.endswith('Z') and dir + 1 == len(rl_line):\n",
    "            return steps\n",
    "\n",
    "\n",
    "print(f'Starting at AAA, follow the left/right instructions. How many steps are required to reach ZZZ? {find_end(\"AAA\", end_zzz = True)}')\n",
    "\n",
    "locs = [k for k in directions.keys() if k.endswith('A')]\n",
    "steps = [find_end(l) for l in locs]\n",
    "print(f'Simultaneously start on every node that ends with A. How many steps does it take before you\\'re only on nodes that end with Z? {math.lcm(*steps)}')"
   ]
  }
 ],
 "metadata": {
  "kernelspec": {
   "display_name": "Python 3",
   "language": "python",
   "name": "python3"
  },
  "language_info": {
   "codemirror_mode": {
    "name": "ipython",
    "version": 3
   },
   "file_extension": ".py",
   "mimetype": "text/x-python",
   "name": "python",
   "nbconvert_exporter": "python",
   "pygments_lexer": "ipython3",
   "version": "3.9.6"
  }
 },
 "nbformat": 4,
 "nbformat_minor": 2
}
