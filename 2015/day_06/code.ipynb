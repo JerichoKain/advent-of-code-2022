{
 "cells": [
  {
   "cell_type": "code",
   "execution_count": 2,
   "metadata": {},
   "outputs": [
    {
     "name": "stdout",
     "output_type": "stream",
     "text": [
      "line count: 300\n"
     ]
    }
   ],
   "source": [
    "with open('input.txt') as file:\n",
    "  lines = []\n",
    "  for line in file:\n",
    "    lines.append(line.strip())\n",
    "print(f'line count: {len(lines)}')"
   ]
  },
  {
   "cell_type": "code",
   "execution_count": 74,
   "metadata": {},
   "outputs": [
    {
     "name": "stdout",
     "output_type": "stream",
     "text": [
      "apply instruction: 0)turn on 0,0 through 999,999\n",
      "error on line: turn on 0,0 through 999,999\n",
      "turn_on() missing 1 required positional argument: 'i'\n",
      "apply instruction: 1)toggle 0,0 through 999,0\n",
      "error on line: toggle 0,0 through 999,0\n",
      "toggle() missing 1 required positional argument: 'i'\n",
      "apply instruction: 2)turn off 499,499 through 500,500\n",
      "error on line: turn off 499,499 through 500,500\n",
      "turn_off() missing 1 required positional argument: 'i'\n",
      "on: 0, off: 1000000, total: 1000000\n"
     ]
    }
   ],
   "source": [
    "import re\n",
    "from PIL import Image, ImageOps\n",
    "\n",
    "matcher = r'(.*) (\\d+),(\\d+) through (\\d+),(\\d+)'\n",
    "ls = [\n",
    "    'turn on 0,0 through 999,999',\n",
    "    'toggle 0,0 through 999,0',\n",
    "    'turn off 499,499 through 500,500'\n",
    "  ]\n",
    "white = (255, 255, 255)\n",
    "black = (0, 0, 0)\n",
    "\n",
    "def toggle(box, i):\n",
    "  img = Image.open('output.bmp')\n",
    "  crop = img.crop(box)\n",
    "  invert = ImageOps.invert(crop)\n",
    "  img.paste(invert, box)\n",
    "  img.save(f'output_{i}.bmp')\n",
    "  img.save(f'output_{i}.bmp')\n",
    "\n",
    "def turn_on(box, i):\n",
    "  img = Image.open('output.bmp')\n",
    "  img.paste(white, box)\n",
    "  img.save(f'output_{i}.bmp')\n",
    "  img.save(f'output_{i}.bmp')\n",
    "\n",
    "def turn_off(box, i):\n",
    "  img = Image.open('output.bmp')\n",
    "  img.paste(black, box)\n",
    "  img.save(f'output_{i}.bmp')\n",
    "  img.save(f'output.bmp')\n",
    "\n",
    "img = Image.new('RGB', (1000, 1000))\n",
    "img.paste(black, (0, 0, 1000, 1000))\n",
    "img.save('output.bmp')\n",
    "\n",
    "for index, line in enumerate(ls):\n",
    "  try:\n",
    "    print(f'apply instruction: {index}){line}')\n",
    "    r = re.match(r'(.*) (\\d+),(\\d+) through (\\d+),(\\d+)', line)\n",
    "    instruction = r.group(1)\n",
    "    x1,y1 = int(r.group(2)), int(r.group(3))\n",
    "    x2,y2 = int(r.group(4)), int(r.group(4))\n",
    "    box = (min(x1, x1), min(y1, y2), max(x1, x2) + 1, max(y1, y2) + 1)\n",
    "    match instruction:\n",
    "      case 'toggle':\n",
    "        toggle(box, index)\n",
    "      case 'turn off':\n",
    "        turn_off(box, index)\n",
    "      case 'turn on':\n",
    "        turn_on(box, index)\n",
    "  except Exception as e:\n",
    "    print(f'error on line: {line}\\n{e}')\n",
    "\n",
    "lights_on = 0\n",
    "lights_off = 0\n",
    "img = Image.open('output.bmp')\n",
    "for pixel in img.getdata():\n",
    "  lights_on += 1 if pixel == white else 0\n",
    "  lights_off += 1 if pixel == black else 0\n",
    "print(f'on: {lights_on}, off: {lights_off}, total: {lights_on + lights_off}')\n",
    "#wrong answer: 686801\n",
    "\n",
    "\n",
    "# print(f'total lights on: {sum([sum(pixels[r]) for r in range(1000)])}')\n",
    "# (instruction, (###,###), through (###, ###))\n"
   ]
  }
 ],
 "metadata": {
  "kernelspec": {
   "display_name": "Python 3.10.8 64-bit",
   "language": "python",
   "name": "python3"
  },
  "language_info": {
   "codemirror_mode": {
    "name": "ipython",
    "version": 3
   },
   "file_extension": ".py",
   "mimetype": "text/x-python",
   "name": "python",
   "nbconvert_exporter": "python",
   "pygments_lexer": "ipython3",
   "version": "3.10.8"
  },
  "orig_nbformat": 4,
  "vscode": {
   "interpreter": {
    "hash": "b460384b52104c1e5b9cf54bee46a255d22b2bef338f75ac4ad5d48196028d3c"
   }
  }
 },
 "nbformat": 4,
 "nbformat_minor": 2
}
