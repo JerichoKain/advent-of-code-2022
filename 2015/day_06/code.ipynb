{
 "cells": [
  {
   "cell_type": "code",
   "execution_count": 1,
   "metadata": {},
   "outputs": [
    {
     "name": "stdout",
     "output_type": "stream",
     "text": [
      "line count: 300\n"
     ]
    }
   ],
   "source": [
    "with open('input.txt') as file:\n",
    "  lines = []\n",
    "  for line in file:\n",
    "    lines.append(line.strip())\n",
    "print(f'line count: {len(lines)}')"
   ]
  },
  {
   "cell_type": "code",
   "execution_count": 2,
   "metadata": {},
   "outputs": [
    {
     "name": "stdout",
     "output_type": "stream",
     "text": [
      "part 1: lights on: 543903, lights off: 456097\n",
      "part 2: total birghtness: 14687245\n"
     ]
    }
   ],
   "source": [
    "import re\n",
    "\n",
    "matcher = r'(.*) (\\d+),(\\d+) through (\\d+),(\\d+)'\n",
    "ls = [\n",
    "    'turn on 0,0 through 999,999',\n",
    "    'toggle 0,0 through 999,0',\n",
    "    'turn off 499,499 through 500,500'\n",
    "  ]\n",
    "\n",
    "lights_one = [0b0] * 1_000_000\n",
    "lights_two = [0b0] * 1_000_000\n",
    "\n",
    "ops_one = {\n",
    "  'toggle': lambda l: l ^ 0b1,\n",
    "  'turn on': lambda l: 0b1,\n",
    "  'turn off': lambda l: 0b0\n",
    "}\n",
    "\n",
    "ops_two = {\n",
    "  'toggle': lambda l: l + 0b1 + 0b1,\n",
    "  'turn on': lambda l: l + 0b1,\n",
    "  'turn off': lambda l: max(l - 0b1, 0b0)\n",
    "}\n",
    "\n",
    "for index, line in enumerate(lines):\n",
    "  try:\n",
    "    #print(f'apply instruction: {index}){line}')\n",
    "    r = re.match(r'(.*) (\\d+),(\\d+) through (\\d+),(\\d+)', line)\n",
    "    parts = r.groups()\n",
    "    instruction = parts[0]\n",
    "    points = tuple(map(int, parts[1:]))\n",
    "    for x in range(points[0], points[2]+1):\n",
    "      for y in range(points[1], points[3]+1):\n",
    "        lights_one[x * 1000 + y] = ops_one[instruction](lights_one[x * 1000 + y])\n",
    "        lights_two[x * 1000 + y] = ops_two[instruction](lights_two[x * 1000 + y])\n",
    "  except Exception as e: \n",
    "    print(f'error at ({x}, {y}) on line: {line}\\n{e}')\n",
    "\n",
    "print(f'part 1: lights on: {lights_one.count(0b1)}, lights off: {lights_one.count(0b0)}')\n",
    "print(f'part 2: total birghtness: {sum(lights_two)}')\n"
   ]
  }
 ],
 "metadata": {
  "kernelspec": {
   "display_name": "Python 3.10.8 64-bit",
   "language": "python",
   "name": "python3"
  },
  "language_info": {
   "codemirror_mode": {
    "name": "ipython",
    "version": 3
   },
   "file_extension": ".py",
   "mimetype": "text/x-python",
   "name": "python",
   "nbconvert_exporter": "python",
   "pygments_lexer": "ipython3",
   "version": "3.10.8"
  },
  "orig_nbformat": 4,
  "vscode": {
   "interpreter": {
    "hash": "b460384b52104c1e5b9cf54bee46a255d22b2bef338f75ac4ad5d48196028d3c"
   }
  }
 },
 "nbformat": 4,
 "nbformat_minor": 2
}
