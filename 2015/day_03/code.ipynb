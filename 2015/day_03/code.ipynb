{
 "cells": [
  {
   "cell_type": "code",
   "execution_count": 2,
   "metadata": {},
   "outputs": [
    {
     "name": "stdout",
     "output_type": "stream",
     "text": [
      "line length: 8192\n"
     ]
    }
   ],
   "source": [
    "with open('input.txt') as file:\n",
    "  line = file.readline().strip()\n",
    "    \n",
    "print(f'line length: {len(line)}')"
   ]
  },
  {
   "cell_type": "code",
   "execution_count": 9,
   "metadata": {},
   "outputs": [],
   "source": [
    "# dict((lat, lon): visits, ...)\n",
    "import operator\n",
    "current = (0,0)\n",
    "houses = {(0,0): 1}\n",
    "directions = { '^': (1,0), '>': (0,1), 'v': (-1, 0), '<': (0, -1) }\n",
    "for char in line:\n",
    "  current = tuple(map(operator.add, current, directions[char]))\n",
    "  visits = houses.setdefault(current, 0)\n",
    "  houses[current] = visits + 1"
   ]
  },
  {
   "cell_type": "code",
   "execution_count": 11,
   "metadata": {},
   "outputs": [
    {
     "name": "stdout",
     "output_type": "stream",
     "text": [
      "total number of houses visited: 2572\n"
     ]
    }
   ],
   "source": [
    "print(f'total number of houses visited: {len(houses.keys())}')"
   ]
  },
  {
   "cell_type": "code",
   "execution_count": 15,
   "metadata": {},
   "outputs": [],
   "source": [
    "# dict((lat, lon): visits, ...)\n",
    "import operator\n",
    "current = [(0,0), (0,0)]\n",
    "houses = {(0,0): 2}\n",
    "directions = { '^': (1,0), '>': (0,1), 'v': (-1, 0), '<': (0, -1) }\n",
    "for index, char in enumerate(line):\n",
    "  even_odd = index % 2\n",
    "  current[even_odd] = tuple(map(operator.add, current[even_odd], directions[char]))\n",
    "  visits = houses.setdefault(current[even_odd], 0)\n",
    "  houses[current[even_odd]] = visits + 1"
   ]
  },
  {
   "cell_type": "code",
   "execution_count": 16,
   "metadata": {},
   "outputs": [
    {
     "name": "stdout",
     "output_type": "stream",
     "text": [
      "total number of houses visited by alterante routes: 2631\n"
     ]
    }
   ],
   "source": [
    "print(f'total number of houses visited by alterante routes: {len(houses.keys())}')"
   ]
  }
 ],
 "metadata": {
  "kernelspec": {
   "display_name": "Python 3.10.8 64-bit",
   "language": "python",
   "name": "python3"
  },
  "language_info": {
   "codemirror_mode": {
    "name": "ipython",
    "version": 3
   },
   "file_extension": ".py",
   "mimetype": "text/x-python",
   "name": "python",
   "nbconvert_exporter": "python",
   "pygments_lexer": "ipython3",
   "version": "3.10.8"
  },
  "orig_nbformat": 4,
  "vscode": {
   "interpreter": {
    "hash": "b460384b52104c1e5b9cf54bee46a255d22b2bef338f75ac4ad5d48196028d3c"
   }
  }
 },
 "nbformat": 4,
 "nbformat_minor": 2
}
