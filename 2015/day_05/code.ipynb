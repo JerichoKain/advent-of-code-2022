{
 "cells": [
  {
   "cell_type": "code",
   "execution_count": 82,
   "metadata": {},
   "outputs": [
    {
     "name": "stdout",
     "output_type": "stream",
     "text": [
      "line count: 1000\n"
     ]
    }
   ],
   "source": [
    "with open('input.txt') as file:\n",
    "  lines = []\n",
    "  for line in file:\n",
    "    lines.append(line.strip())\n",
    "print(f'line count: {len(lines)}')"
   ]
  },
  {
   "cell_type": "code",
   "execution_count": 83,
   "metadata": {},
   "outputs": [
    {
     "name": "stdout",
     "output_type": "stream",
     "text": [
      "first nice list: 258 [rthkunfaakmwmush, ...]\n"
     ]
    }
   ],
   "source": [
    "from collections import Counter\n",
    "\n",
    "naughty_pairs = ['ab', 'cd', 'pq', 'xy']\n",
    "nice_vowels = 'aeiou'.split()\n",
    "\n",
    "nice_list_one = []\n",
    "for line in lines:\n",
    "  for naughty in naughty_pairs:\n",
    "    if naughty in line:\n",
    "      break\n",
    "  else:\n",
    "    c = Counter(line)\n",
    "    if (c['a']+c['e']+c['i']+c['o']+c['u']) >= 3 and any([c2 for c1, c2 in zip(line, line[1:]) if c1 == c2]):\n",
    "      nice_list_one.append(line)\n",
    "\n",
    "print(f'first nice list: {len(nice_list_one)} [{nice_list_one[0]}, ...]')"
   ]
  },
  {
   "cell_type": "code",
   "execution_count": 84,
   "metadata": {},
   "outputs": [
    {
     "name": "stdout",
     "output_type": "stream",
     "text": [
      "True\n",
      "True\n",
      "False\n",
      "True\n",
      "True\n",
      "True\n",
      "qjhvhtzxzqqjkmpb : True & True\n",
      "xxyxx : True & True\n",
      "uurcxstgmygtbstg : True & False\n",
      "ieodomkazucvgmuy : False & True\n",
      "second nice list: 53 [skerkykytazvbupg, ...]\n"
     ]
    }
   ],
   "source": [
    "rule_one = []\n",
    "rule_two = []\n",
    "nice_list_two = []\n",
    "\n",
    "double_pair = lambda l: any([e for i, e in enumerate(zip(l, l[1:])) if f'{e[0]}{e[1]}' in l[i+2:]])\n",
    "print(double_pair('xyxy'))\n",
    "print(double_pair('aabcdefgaa'))\n",
    "print(double_pair('aaa')) # should be false!\n",
    "\n",
    "repeat_in_three = lambda l: any([c2 for c1, c2 in zip(l, l[2:]) if c1 == c2])\n",
    "print(repeat_in_three('xyx'))\n",
    "print(repeat_in_three('abcdefeghi'))\n",
    "print(repeat_in_three('aaa'))\n",
    "\n",
    "dbg_stmt = lambda l: f'{l} : {double_pair(l)} & {repeat_in_three(l)}'\n",
    "print(dbg_stmt('qjhvhtzxzqqjkmpb'))\n",
    "print(dbg_stmt('xxyxx'))\n",
    "print(dbg_stmt('uurcxstgmygtbstg'))\n",
    "print(dbg_stmt('ieodomkazucvgmuy'))\n",
    "\n",
    "test_lines = [\n",
    "  'qjhvhtzxzqqjkmpb',\n",
    "  'xxyxx',\n",
    "  'uurcxstgmygtbstg',\n",
    "  'ieodomkazucvgmuy'\n",
    "]\n",
    "\n",
    "for line in lines:\n",
    "  if double_pair(line) and repeat_in_three(line):\n",
    "    nice_list_two.append(line)\n",
    "\n",
    "print(f'second nice list: {len(nice_list_two)} [{nice_list_two[0]}, ...]')"
   ]
  }
 ],
 "metadata": {
  "kernelspec": {
   "display_name": "Python 3.10.8 64-bit",
   "language": "python",
   "name": "python3"
  },
  "language_info": {
   "codemirror_mode": {
    "name": "ipython",
    "version": 3
   },
   "file_extension": ".py",
   "mimetype": "text/x-python",
   "name": "python",
   "nbconvert_exporter": "python",
   "pygments_lexer": "ipython3",
   "version": "3.10.8"
  },
  "orig_nbformat": 4,
  "vscode": {
   "interpreter": {
    "hash": "b460384b52104c1e5b9cf54bee46a255d22b2bef338f75ac4ad5d48196028d3c"
   }
  }
 },
 "nbformat": 4,
 "nbformat_minor": 2
}
