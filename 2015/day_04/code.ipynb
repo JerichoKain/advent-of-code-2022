{
 "cells": [
  {
   "cell_type": "code",
   "execution_count": 8,
   "metadata": {},
   "outputs": [],
   "source": [
    "import hashlib\n",
    "m = hashlib.md5()\n",
    "\n",
    "secret = 'iwrupvqb'\n",
    "counter = 1\n",
    "five_zeroes = None\n",
    "six_zeroes = None\n",
    "while True:\n",
    "  out = hashlib.new('md5', f'{secret}{counter}'.encode()).hexdigest()\n",
    "  if five_zeroes is None and out.startswith('0'*5):\n",
    "    five_zeroes = (counter, out)\n",
    "  if six_zeroes is None and out.startswith('0'*6):\n",
    "    six_zeroes = (counter, out)\n",
    "    break\n",
    "  counter += 1"
   ]
  },
  {
   "cell_type": "code",
   "execution_count": 9,
   "metadata": {},
   "outputs": [
    {
     "name": "stdout",
     "output_type": "stream",
     "text": [
      "iwrupvqb+346386 makes 0000045c5e2b3911eb937d9d8c574f09\n",
      "iwrupvqb+9958218 makes 00000094434e1914548b3a1af245fb27\n"
     ]
    }
   ],
   "source": [
    "\n",
    "print(f'{secret}+{five_zeroes[0]} makes {five_zeroes[1]}')\n",
    "print(f'{secret}+{six_zeroes[0]} makes {six_zeroes[1]}')"
   ]
  }
 ],
 "metadata": {
  "kernelspec": {
   "display_name": "Python 3.10.8 64-bit",
   "language": "python",
   "name": "python3"
  },
  "language_info": {
   "codemirror_mode": {
    "name": "ipython",
    "version": 3
   },
   "file_extension": ".py",
   "mimetype": "text/x-python",
   "name": "python",
   "nbconvert_exporter": "python",
   "pygments_lexer": "ipython3",
   "version": "3.10.8"
  },
  "orig_nbformat": 4,
  "vscode": {
   "interpreter": {
    "hash": "b460384b52104c1e5b9cf54bee46a255d22b2bef338f75ac4ad5d48196028d3c"
   }
  }
 },
 "nbformat": 4,
 "nbformat_minor": 2
}
