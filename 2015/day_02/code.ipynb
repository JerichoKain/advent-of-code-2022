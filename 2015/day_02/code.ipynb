{
 "cells": [
  {
   "cell_type": "code",
   "execution_count": 4,
   "metadata": {},
   "outputs": [
    {
     "name": "stdout",
     "output_type": "stream",
     "text": [
      "line count: 1000\n"
     ]
    }
   ],
   "source": [
    "with open('input.txt') as file:\n",
    "  lines = []\n",
    "  for line in file:\n",
    "    lines.append(line.strip())\n",
    "print(f'line count: {len(lines)}')"
   ]
  },
  {
   "cell_type": "code",
   "execution_count": 8,
   "metadata": {},
   "outputs": [
    {
     "name": "stdout",
     "output_type": "stream",
     "text": [
      "wrap(2x3x4) = 58\n",
      "wrap(1x1x10) = 43\n"
     ]
    }
   ],
   "source": [
    "def wrap(str):\n",
    "  l,w,h = tuple(map(int, str.split('x')))\n",
    "  return int(2*l*w) + int(2*l*h) + int(2*w*h) + int((l*w*h) / max(l, w, h))\n",
    "\n",
    "print(f'wrap(2x3x4) = {wrap(\"2x3x4\")}')\n",
    "print(f'wrap(1x1x10) = {wrap(\"1x1x10\")}')"
   ]
  },
  {
   "cell_type": "code",
   "execution_count": 9,
   "metadata": {},
   "outputs": [
    {
     "name": "stdout",
     "output_type": "stream",
     "text": [
      "total required wrapping paper: 1606483\n"
     ]
    }
   ],
   "source": [
    "print(f'total required wrapping paper: {sum([wrap(l) for l in lines])}')"
   ]
  },
  {
   "cell_type": "code",
   "execution_count": 10,
   "metadata": {},
   "outputs": [
    {
     "name": "stdout",
     "output_type": "stream",
     "text": [
      "make_bow(2x3x4) = 34\n",
      "make_bow(1x1x10) = 14\n"
     ]
    }
   ],
   "source": [
    "def make_bow(str):\n",
    "  l,w,h = tuple(map(int, str.split('x')))\n",
    "  return int(2*l) + int(2*w) + int(2*h) + int(-2*max(l,w,h)) + int(l*w*h)\n",
    "\n",
    "print(f'make_bow(2x3x4) = {make_bow(\"2x3x4\")}')\n",
    "print(f'make_bow(1x1x10) = {make_bow(\"1x1x10\")}')"
   ]
  },
  {
   "cell_type": "code",
   "execution_count": 11,
   "metadata": {},
   "outputs": [
    {
     "name": "stdout",
     "output_type": "stream",
     "text": [
      "total required ribbon: 3842356\n"
     ]
    }
   ],
   "source": [
    "print(f'total required ribbon: {sum([make_bow(l) for l in lines])}')"
   ]
  }
 ],
 "metadata": {
  "kernelspec": {
   "display_name": "Python 3.10.8 64-bit",
   "language": "python",
   "name": "python3"
  },
  "language_info": {
   "codemirror_mode": {
    "name": "ipython",
    "version": 3
   },
   "file_extension": ".py",
   "mimetype": "text/x-python",
   "name": "python",
   "nbconvert_exporter": "python",
   "pygments_lexer": "ipython3",
   "version": "3.10.8"
  },
  "orig_nbformat": 4,
  "vscode": {
   "interpreter": {
    "hash": "b460384b52104c1e5b9cf54bee46a255d22b2bef338f75ac4ad5d48196028d3c"
   }
  }
 },
 "nbformat": 4,
 "nbformat_minor": 2
}
