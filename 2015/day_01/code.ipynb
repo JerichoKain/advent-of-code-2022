{
 "cells": [
  {
   "cell_type": "code",
   "execution_count": 1,
   "metadata": {},
   "outputs": [
    {
     "name": "stdout",
     "output_type": "stream",
     "text": [
      "line length: 7000\n"
     ]
    }
   ],
   "source": [
    "with open('day_01_input.txt') as file:\n",
    "  line = file.readline().strip()\n",
    "    \n",
    "print(f'line length: {len(line)}')"
   ]
  },
  {
   "cell_type": "code",
   "execution_count": 2,
   "metadata": {},
   "outputs": [
    {
     "name": "stdout",
     "output_type": "stream",
     "text": [
      "first entered basement position: 1783\n",
      "santa's final floor: 232\n"
     ]
    }
   ],
   "source": [
    "visited_basement = False\n",
    "floor = 0\n",
    "instruction = { '(': 1, ')': -1 }\n",
    "for i,x in enumerate(line):\n",
    "  floor += instruction[x]\n",
    "  if not visited_basement and floor < 0:\n",
    "    print(f'first entered basement position: {i+1}')\n",
    "    visited_basement = True\n",
    "print(f'santa\\'s final floor: {floor}')"
   ]
  }
 ],
 "metadata": {
  "kernelspec": {
   "display_name": "Python 3.10.8 64-bit",
   "language": "python",
   "name": "python3"
  },
  "language_info": {
   "codemirror_mode": {
    "name": "ipython",
    "version": 3
   },
   "file_extension": ".py",
   "mimetype": "text/x-python",
   "name": "python",
   "nbconvert_exporter": "python",
   "pygments_lexer": "ipython3",
   "version": "3.10.8"
  },
  "orig_nbformat": 4,
  "vscode": {
   "interpreter": {
    "hash": "b460384b52104c1e5b9cf54bee46a255d22b2bef338f75ac4ad5d48196028d3c"
   }
  }
 },
 "nbformat": 4,
 "nbformat_minor": 2
}
