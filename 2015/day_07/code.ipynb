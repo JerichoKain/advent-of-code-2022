{
 "cells": [
  {
   "cell_type": "code",
   "execution_count": 1,
   "metadata": {},
   "outputs": [
    {
     "name": "stdout",
     "output_type": "stream",
     "text": [
      "line count: 339\n"
     ]
    }
   ],
   "source": [
    "with open('input.txt') as file:\n",
    "  lines = []\n",
    "  for line in file:\n",
    "    lines.append(line.strip())\n",
    "print(f'line count: {len(lines)}')"
   ]
  },
  {
   "cell_type": "code",
   "execution_count": 10,
   "metadata": {},
   "outputs": [
    {
     "name": "stdout",
     "output_type": "stream",
     "text": [
      "{'x': '123', 'y': '456', 'd': 'x AND y', 'e': 'x OR y', 'f': 'y LSHIFT 2', 'g': 'x RSHIFT 2', 'h': 'NOT x', 'i': 'NOT y'}\n"
     ]
    }
   ],
   "source": [
    "import re\n",
    "\n",
    "ops = {\n",
    "  'AND': '',\n",
    "  'NOT': '',\n",
    "  'OR': '',\n",
    "  'LSHIFT': '',\n",
    "  'RSHIFT': ''\n",
    "}\n",
    "\n",
    "ls = [\n",
    "  '123 -> x',\n",
    "  '456 -> y',\n",
    "  'e AND y -> d',\n",
    "  'x OR y -> e',\n",
    "  'y LSHIFT 2 -> f',\n",
    "  'x RSHIFT 2 -> g',\n",
    "  'NOT x -> h',\n",
    "  'NOT y -> i'\n",
    "]\n",
    "\n",
    "# name: {value: ,circuits: (op, L R), wires: []}\n",
    "wires = {}\n",
    "for line in ls:\n",
    "  wire_ops = re.match(r'(.*) -> (\\w+)', line)\n",
    "  if wire_ops is None:\n",
    "    raise Exception(f'Failed to parse wire op: {line}')\n",
    "  circuit, wire = wire_ops.groups()\n",
    "  wires[wire] = bin(int(circuit)) if circuit.isdigit() else circuit\n",
    "\n",
    "print(wires)\n",
    "\n",
    "calls = [wires['d']]\n",
    "# ['e AND y'] -> ()\n",
    "while True:\n",
    "  call = ''\n",
    "  print(f'solve: {calls[-1]}')\n",
    "\n",
    "\n",
    "\n"
   ]
  },
  {
   "cell_type": "code",
   "execution_count": 12,
   "metadata": {},
   "outputs": [
    {
     "data": {
      "text/plain": [
       "True"
      ]
     },
     "execution_count": 12,
     "metadata": {},
     "output_type": "execute_result"
    }
   ],
   "source": [
    "'1'.isdigit()"
   ]
  }
 ],
 "metadata": {
  "kernelspec": {
   "display_name": "Python 3.10.8 64-bit",
   "language": "python",
   "name": "python3"
  },
  "language_info": {
   "codemirror_mode": {
    "name": "ipython",
    "version": 3
   },
   "file_extension": ".py",
   "mimetype": "text/x-python",
   "name": "python",
   "nbconvert_exporter": "python",
   "pygments_lexer": "ipython3",
   "version": "3.10.8"
  },
  "orig_nbformat": 4,
  "vscode": {
   "interpreter": {
    "hash": "b460384b52104c1e5b9cf54bee46a255d22b2bef338f75ac4ad5d48196028d3c"
   }
  }
 },
 "nbformat": 4,
 "nbformat_minor": 2
}
