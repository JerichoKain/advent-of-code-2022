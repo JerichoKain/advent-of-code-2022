{
 "cells": [
  {
   "cell_type": "code",
   "execution_count": 1,
   "metadata": {},
   "outputs": [],
   "source": [
    "# Puzzle inputs differ by user.  Please log in to get your puzzle input.\n",
    "\n",
    "# import urllib.request\n",
    "# with urllib.request.urlopen('https://adventofcode.com/2022/day/1/input') as f:\n",
    "#   txt = f.read().decode('utf-8')\n"
   ]
  },
  {
   "cell_type": "code",
   "execution_count": 2,
   "metadata": {},
   "outputs": [
    {
     "name": "stdout",
     "output_type": "stream",
     "text": [
      "line count: 2256\n"
     ]
    }
   ],
   "source": [
    "with open('day_1_input.txt') as file:\n",
    "  lines = []\n",
    "  for line in file:\n",
    "    lines.append(line.strip())\n",
    "print(f'line count: {len(lines)}')"
   ]
  },
  {
   "cell_type": "code",
   "execution_count": 3,
   "metadata": {},
   "outputs": [
    {
     "name": "stdout",
     "output_type": "stream",
     "text": [
      "elfs count: 251\n",
      "most calories: 72511\n"
     ]
    }
   ],
   "source": [
    "elfs = [0]\n",
    "for line in lines:\n",
    "  if line != '':\n",
    "    elfs[-1] = elfs[-1] + int(line)\n",
    "  else:\n",
    "    elfs.append(0)\n",
    "\n",
    "print(f'elfs count: {len(elfs)}')\n",
    "\n",
    "ordered_elfs = sorted(elfs, reverse=True)\n",
    "print(f'most calories: {ordered_elfs[0]}')\n"
   ]
  },
  {
   "cell_type": "code",
   "execution_count": 4,
   "metadata": {},
   "outputs": [
    {
     "name": "stdout",
     "output_type": "stream",
     "text": [
      "212117\n"
     ]
    }
   ],
   "source": [
    "print(sum(ordered_elfs[:3]))"
   ]
  }
 ],
 "metadata": {
  "kernelspec": {
   "display_name": "Python 3.10.8 64-bit",
   "language": "python",
   "name": "python3"
  },
  "language_info": {
   "codemirror_mode": {
    "name": "ipython",
    "version": 3
   },
   "file_extension": ".py",
   "mimetype": "text/x-python",
   "name": "python",
   "nbconvert_exporter": "python",
   "pygments_lexer": "ipython3",
   "version": "3.10.8"
  },
  "orig_nbformat": 4,
  "vscode": {
   "interpreter": {
    "hash": "b460384b52104c1e5b9cf54bee46a255d22b2bef338f75ac4ad5d48196028d3c"
   }
  }
 },
 "nbformat": 4,
 "nbformat_minor": 2
}
